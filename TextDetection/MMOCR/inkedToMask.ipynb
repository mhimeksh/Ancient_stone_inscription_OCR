{
 "cells": [
  {
   "cell_type": "code",
   "execution_count": null,
   "metadata": {},
   "outputs": [
    {
     "ename": "",
     "evalue": "",
     "output_type": "error",
     "traceback": [
      "\u001b[1;31mRunning cells with 'Python 3.10.11' requires the ipykernel package.\n",
      "\u001b[1;31mRun the following command to install 'ipykernel' into the Python environment. \n",
      "\u001b[1;31mCommand: 'c:/msys64/ucrt64/bin/python.exe -m pip install ipykernel -U --user --force-reinstall'"
     ]
    }
   ],
   "source": [
    "import cv2\n",
    "import numpy as np\n",
    "import os\n",
    "\n",
    "def process_images_to_bw(\n",
    "    main_folder='inked',\n",
    "    output_main_folder='inked_output',\n",
    "    threshold_value=50\n",
    "):\n",
    "    \"\"\"\n",
    "    This script:\n",
    "    1. Reads images from each subfolder in 'inked'.\n",
    "    2. Converts them to grayscale.\n",
    "    3. Applies a binary threshold (THRESH_BINARY_INV).\n",
    "    4. Performs a morphological open operation to clean small noise.\n",
    "    5. Saves a purely black-and-white image (white pen markings on black background)\n",
    "       in a separate folder 'inked_output' outside the 'inked' folder, mirroring subfolder structure.\n",
    "    \"\"\"\n",
    "    # Ensure the output main folder exists (outside 'inked')\n",
    "    os.makedirs(output_main_folder, exist_ok=True)\n",
    "\n",
    "    # Iterate over each subfolder in the main folder\n",
    "    for subfolder in os.listdir(main_folder):\n",
    "        subfolder_path = os.path.join(main_folder, subfolder)\n",
    "        if os.path.isdir(subfolder_path):\n",
    "            # Create a corresponding subfolder in the output directory\n",
    "            output_subfolder_path = os.path.join(output_main_folder, subfolder)\n",
    "            os.makedirs(output_subfolder_path, exist_ok=True)\n",
    "\n",
    "            # Process each image in the subfolder\n",
    "            for filename in os.listdir(subfolder_path):\n",
    "                if filename.lower().endswith(('.png', '.jpg', '.jpeg')):\n",
    "                    image_path = os.path.join(subfolder_path, filename)\n",
    "                    img = cv2.imread(image_path)\n",
    "                    if img is None:\n",
    "                        print(f\"Could not read image: {image_path}\")\n",
    "                        continue\n",
    "\n",
    "                    # 1. Convert image to grayscale\n",
    "                    gray = cv2.cvtColor(img, cv2.COLOR_BGR2GRAY)\n",
    "\n",
    "                    # 2. Apply thresholding (threshold_value is adjustable; default=50)\n",
    "                    #    THRESH_BINARY_INV -> Dark markings become white, background black\n",
    "                    _, mask = cv2.threshold(gray, threshold_value, 255, cv2.THRESH_BINARY_INV)\n",
    "\n",
    "                    # 3. Morphological operation (Opening) to remove small noise\n",
    "                    kernel = np.ones((3, 3), np.uint8)\n",
    "                    mask_cleaned = cv2.morphologyEx(mask, cv2.MORPH_OPEN, kernel)\n",
    "\n",
    "                    # (Optional) Invert if you want black markings on a white background:\n",
    "                    # mask_cleaned = cv2.bitwise_not(mask_cleaned)\n",
    "\n",
    "                    # 4. Save the purely black-and-white result in the new output folder\n",
    "                    output_path = os.path.join(output_subfolder_path, f'pen_{filename}')\n",
    "                    cv2.imwrite(output_path, mask_cleaned)\n",
    "                    print(f'Processed and saved: {output_path}')\n",
    "\n",
    "if __name__ == \"__main__\":\n",
    "    # Usage example:\n",
    "    #  - The original images are in a folder named \"inked\"\n",
    "    #  - The processed images will be saved in a folder named \"inked_output\"\n",
    "    #  - You can also adjust the threshold_value if needed.\n",
    "    process_images_to_bw(main_folder=\"inked\", output_main_folder=\"masks\", threshold_value=50)\n"
   ]
  }
 ],
 "metadata": {
  "kernelspec": {
   "display_name": "Python 3",
   "language": "python",
   "name": "python3"
  },
  "language_info": {
   "codemirror_mode": {
    "name": "ipython",
    "version": 3
   },
   "file_extension": ".py",
   "mimetype": "text/x-python",
   "name": "python",
   "nbconvert_exporter": "python",
   "pygments_lexer": "ipython3",
   "version": "3.10.11"
  }
 },
 "nbformat": 4,
 "nbformat_minor": 2
}
